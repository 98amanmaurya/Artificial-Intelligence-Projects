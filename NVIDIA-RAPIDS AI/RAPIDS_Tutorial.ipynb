{
  "nbformat": 4,
  "nbformat_minor": 0,
  "metadata": {
    "colab": {
      "name": "RAPIDS-Tutorial.ipynb",
      "version": "0.3.2",
      "provenance": [],
      "collapsed_sections": []
    },
    "kernelspec": {
      "name": "python3",
      "display_name": "Python 3"
    },
    "accelerator": "GPU"
  },
  "cells": [
    {
      "cell_type": "markdown",
      "metadata": {
        "id": "YN5iW23rH2x9",
        "colab_type": "text"
      },
      "source": [
        "# GPU Accellerated Data Analytics & Machine Learning - Tutorial"
      ]
    },
    {
      "cell_type": "markdown",
      "metadata": {
        "id": "-8BH4DwoJiA4",
        "colab_type": "text"
      },
      "source": [
        "## Installing Dependencies"
      ]
    },
    {
      "cell_type": "code",
      "metadata": {
        "id": "qjmYTeDwpBJv",
        "colab_type": "code",
        "outputId": "2b45a42c-7b73-481b-c4a0-08084c60d5e3",
        "colab": {
          "base_uri": "https://localhost:8080/",
          "height": 316
        }
      },
      "source": [
        "!nvidia-smi"
      ],
      "execution_count": 1,
      "outputs": [
        {
          "output_type": "stream",
          "text": [
            "Sat Jul 20 09:41:54 2019       \n",
            "+-----------------------------------------------------------------------------+\n",
            "| NVIDIA-SMI 418.67       Driver Version: 410.79       CUDA Version: 10.0     |\n",
            "|-------------------------------+----------------------+----------------------+\n",
            "| GPU  Name        Persistence-M| Bus-Id        Disp.A | Volatile Uncorr. ECC |\n",
            "| Fan  Temp  Perf  Pwr:Usage/Cap|         Memory-Usage | GPU-Util  Compute M. |\n",
            "|===============================+======================+======================|\n",
            "|   0  Tesla T4            Off  | 00000000:00:04.0 Off |                    0 |\n",
            "| N/A   72C    P8    18W /  70W |      0MiB / 15079MiB |      0%      Default |\n",
            "+-------------------------------+----------------------+----------------------+\n",
            "                                                                               \n",
            "+-----------------------------------------------------------------------------+\n",
            "| Processes:                                                       GPU Memory |\n",
            "|  GPU       PID   Type   Process name                             Usage      |\n",
            "|=============================================================================|\n",
            "|  No running processes found                                                 |\n",
            "+-----------------------------------------------------------------------------+\n"
          ],
          "name": "stdout"
        }
      ]
    },
    {
      "cell_type": "code",
      "metadata": {
        "id": "NTehwvuopNQ5",
        "colab_type": "code",
        "outputId": "97892725-ab96-4ace-822f-c733113390e8",
        "colab": {
          "base_uri": "https://localhost:8080/",
          "height": 35
        }
      },
      "source": [
        "import pynvml\n",
        "\n",
        "pynvml.nvmlInit()\n",
        "handle = pynvml.nvmlDeviceGetHandleByIndex(0)\n",
        "device_name = pynvml.nvmlDeviceGetName(handle)\n",
        "\n",
        "# In case you don't have the right instance, go to the Runtime option on Google\n",
        "# Colab then select change runtime type and make sure GPU is selcted. \n",
        "# If you get assigned a GPU which is not the Tesla T4, then go to runtime\n",
        "# select Reset all runtimes and try to run again the first two cells of this \n",
        "# notebook\n",
        "if device_name != b'Tesla T4':\n",
        "  raise Exception(\"Unfortunately this instance does not have a T4 GPU.\")\n",
        "else:\n",
        "  print('Woo! You got the right kind of GPU!')"
      ],
      "execution_count": 2,
      "outputs": [
        {
          "output_type": "stream",
          "text": [
            "Woo! You got the right kind of GPU!\n"
          ],
          "name": "stdout"
        }
      ]
    },
    {
      "cell_type": "code",
      "metadata": {
        "id": "NM3zyJUCpNV_",
        "colab_type": "code",
        "outputId": "b945d57f-05fe-435b-b379-325db9b1611b",
        "colab": {
          "base_uri": "https://localhost:8080/",
          "height": 1000
        }
      },
      "source": [
        "# intall miniconda\n",
        "!wget -c https://repo.continuum.io/miniconda/Miniconda3-4.5.4-Linux-x86_64.sh\n",
        "!chmod +x Miniconda3-4.5.4-Linux-x86_64.sh\n",
        "!bash ./Miniconda3-4.5.4-Linux-x86_64.sh -b -f -p /usr/local\n",
        "\n",
        "# install RAPIDS packages\n",
        "!conda install -q -y --prefix /usr/local -c conda-forge \\\n",
        "  -c rapidsai-nightly/label/cuda10.0 -c nvidia/label/cuda10.0 \\\n",
        "  cudf cuml\n",
        "\n",
        "# set environment vars\n",
        "import sys, os, shutil\n",
        "sys.path.append('/usr/local/lib/python3.6/site-packages/')\n",
        "os.environ['NUMBAPRO_NVVM'] = '/usr/local/cuda/nvvm/lib64/libnvvm.so'\n",
        "os.environ['NUMBAPRO_LIBDEVICE'] = '/usr/local/cuda/nvvm/libdevice/'\n",
        "\n",
        "# copy .so files to current working dir\n",
        "for fn in ['libcudf.so', 'librmm.so']:\n",
        "  shutil.copy('/usr/local/lib/'+fn, os.getcwd())"
      ],
      "execution_count": 6,
      "outputs": [
        {
          "output_type": "stream",
          "text": [
            "--2019-07-20 09:47:23--  https://repo.continuum.io/miniconda/Miniconda3-4.5.4-Linux-x86_64.sh\n",
            "Resolving repo.continuum.io (repo.continuum.io)... 104.18.201.79, 104.18.200.79, 2606:4700::6812:c94f, ...\n",
            "Connecting to repo.continuum.io (repo.continuum.io)|104.18.201.79|:443... connected.\n",
            "HTTP request sent, awaiting response... 416 Requested Range Not Satisfiable\n",
            "\n",
            "    The file is already fully retrieved; nothing to do.\n",
            "\n",
            "PREFIX=/usr/local\n",
            "installing: python-3.6.5-hc3d631a_2 ...\n",
            "Python 3.6.5 :: Anaconda, Inc.\n",
            "installing: ca-certificates-2018.03.07-0 ...\n",
            "installing: conda-env-2.6.0-h36134e3_1 ...\n",
            "installing: libgcc-ng-7.2.0-hdf63c60_3 ...\n",
            "installing: libstdcxx-ng-7.2.0-hdf63c60_3 ...\n",
            "installing: libffi-3.2.1-hd88cf55_4 ...\n",
            "installing: ncurses-6.1-hf484d3e_0 ...\n",
            "installing: openssl-1.0.2o-h20670df_0 ...\n",
            "installing: tk-8.6.7-hc745277_3 ...\n",
            "installing: xz-5.2.4-h14c3975_4 ...\n",
            "installing: yaml-0.1.7-had09818_2 ...\n",
            "installing: zlib-1.2.11-ha838bed_2 ...\n",
            "installing: libedit-3.1.20170329-h6b74fdf_2 ...\n",
            "installing: readline-7.0-ha6073c6_4 ...\n",
            "installing: sqlite-3.23.1-he433501_0 ...\n",
            "installing: asn1crypto-0.24.0-py36_0 ...\n",
            "installing: certifi-2018.4.16-py36_0 ...\n",
            "installing: chardet-3.0.4-py36h0f667ec_1 ...\n",
            "installing: idna-2.6-py36h82fb2a8_1 ...\n",
            "installing: pycosat-0.6.3-py36h0a5515d_0 ...\n",
            "installing: pycparser-2.18-py36hf9f622e_1 ...\n",
            "installing: pysocks-1.6.8-py36_0 ...\n",
            "installing: ruamel_yaml-0.15.37-py36h14c3975_2 ...\n",
            "installing: six-1.11.0-py36h372c433_1 ...\n",
            "installing: cffi-1.11.5-py36h9745a5d_0 ...\n",
            "installing: setuptools-39.2.0-py36_0 ...\n",
            "installing: cryptography-2.2.2-py36h14c3975_0 ...\n",
            "installing: wheel-0.31.1-py36_0 ...\n",
            "installing: pip-10.0.1-py36_0 ...\n",
            "installing: pyopenssl-18.0.0-py36_0 ...\n",
            "installing: urllib3-1.22-py36hbe7ace6_0 ...\n",
            "installing: requests-2.18.4-py36he2e5f8d_1 ...\n",
            "installing: conda-4.5.4-py36_0 ...\n",
            "unlinking: ca-certificates-2019.6.16-hecc5488_0\n",
            "unlinking: certifi-2019.6.16-py37_1\n",
            "unlinking: cffi-1.12.3-py37h8022711_0\n",
            "unlinking: libffi-3.2.1-he1b5a44_1006\n",
            "unlinking: libgcc-ng-9.1.0-hdf63c60_0\n",
            "unlinking: libstdcxx-ng-9.1.0-hdf63c60_0\n",
            "unlinking: ncurses-6.1-hf484d3e_1002\n",
            "unlinking: openssl-1.1.1c-h516909a_0\n",
            "unlinking: pip-19.1.1-py37_0\n",
            "unlinking: pycparser-2.19-py37_1\n",
            "unlinking: python-3.7.3-h33d41f4_1\n",
            "unlinking: readline-8.0-hf8c457e_0\n",
            "unlinking: setuptools-41.0.1-py37_0\n",
            "unlinking: six-1.12.0-py37_1000\n",
            "unlinking: sqlite-3.29.0-hcee41ef_0\n",
            "unlinking: tk-8.6.9-hed695b0_1002\n",
            "unlinking: wheel-0.33.4-py37_0\n",
            "unlinking: xz-5.2.4-h14c3975_1001\n",
            "unlinking: zlib-1.2.11-h516909a_1005\n",
            "installation finished.\n",
            "WARNING:\n",
            "    You currently have a PYTHONPATH environment variable set. This may cause\n",
            "    unexpected behavior when running the Python interpreter in Miniconda3.\n",
            "    For best results, please verify that your PYTHONPATH only points to\n",
            "    directories of packages that are compatible with the Python interpreter\n",
            "    in Miniconda3: /usr/local\n",
            "Solving environment: ...working... done\n",
            "\n",
            "## Package Plan ##\n",
            "\n",
            "  environment location: /usr/local\n",
            "\n",
            "  added / updated specs: \n",
            "    - cudf\n",
            "    - cuml\n",
            "\n",
            "\n",
            "The following packages will be downloaded:\n",
            "\n",
            "    package                    |            build\n",
            "    ---------------------------|-----------------\n",
            "    tqdm-4.32.2                |             py_0          41 KB  conda-forge\n",
            "    cudf-0.9.0a                |        py36_1525         3.8 MB  rapidsai-nightly/label/cuda10.0\n",
            "    nvstrings-0.9.0a1          |          py36_24         122 KB  rapidsai-nightly/label/cuda10.0\n",
            "    lz4-c-1.8.3                |    he1b5a44_1001         187 KB  conda-forge\n",
            "    numpy-1.16.4               |   py36h95a1406_0         4.3 MB  conda-forge\n",
            "    conda-4.7.10               |           py36_0         3.0 MB  conda-forge\n",
            "    libarchive-3.3.3           |    hb44662c_1005         1.4 MB  conda-forge\n",
            "    cython-0.29.12             |   py36he1b5a44_0         2.2 MB  conda-forge\n",
            "    lzo-2.10                   |    h14c3975_1000         319 KB  conda-forge\n",
            "    certifi-2019.6.16          |           py36_1         149 KB  conda-forge\n",
            "    conda-package-handling-1.3.11|           py36_0         257 KB  conda-forge\n",
            "    cryptography-2.7           |   py36h72c5cf5_0         607 KB  conda-forge\n",
            "    numba-0.45.0               |   py36hb3f55d8_0         3.1 MB  conda-forge\n",
            "    sqlite-3.28.0              |       h8b20d00_0         1.9 MB  conda-forge\n",
            "    cuml-0.9.0a1               |cuda10.0_py36_200         4.6 MB  rapidsai-nightly/label/cuda10.0\n",
            "    arrow-cpp-0.12.1           |   py36h0e61e49_0         6.9 MB  conda-forge\n",
            "    llvmlite-0.29.0            |   py36hfd453ef_1        19.9 MB  conda-forge\n",
            "    libxml2-2.9.9              |       h13577e0_2         1.3 MB  conda-forge\n",
            "    rmm-0.9.0a1                |           py36_2          14 KB  rapidsai-nightly/label/cuda10.0\n",
            "    libiconv-1.15              |    h516909a_1005         2.0 MB  conda-forge\n",
            "    python-libarchive-c-2.8    |        py36_1004          21 KB  conda-forge\n",
            "    pyarrow-0.12.1             |   py36hbbcf98d_0         2.2 MB  conda-forge\n",
            "    pandas-0.25.0              |   py36hb3f55d8_0        11.4 MB  conda-forge\n",
            "    python-3.6.7               |    h381d211_1004        34.5 MB  conda-forge\n",
            "    zstd-1.4.0                 |       h3b9ef0a_0         928 KB  conda-forge\n",
            "    ------------------------------------------------------------\n",
            "                                           Total:       105.1 MB\n",
            "\n",
            "The following NEW packages will be INSTALLED:\n",
            "\n",
            "    conda-package-handling: 1.3.11-py36_0             conda-forge                    \n",
            "    libarchive:             3.3.3-hb44662c_1005       conda-forge                    \n",
            "    libiconv:               1.15-h516909a_1005        conda-forge                    \n",
            "    libxml2:                2.9.9-h13577e0_2          conda-forge                    \n",
            "    lz4-c:                  1.8.3-he1b5a44_1001       conda-forge                    \n",
            "    lzo:                    2.10-h14c3975_1000        conda-forge                    \n",
            "    python-libarchive-c:    2.8-py36_1004             conda-forge                    \n",
            "    tqdm:                   4.32.2-py_0               conda-forge                    \n",
            "    zstd:                   1.4.0-h3b9ef0a_0          conda-forge                    \n",
            "\n",
            "The following packages will be UPDATED:\n",
            "\n",
            "    arrow-cpp:              0.12.1-py37h0e61e49_0     conda-forge                     --> 0.12.1-py36h0e61e49_0     conda-forge                    \n",
            "    ca-certificates:        2018.03.07-0                                              --> 2019.6.16-hecc5488_0      conda-forge                    \n",
            "    certifi:                2018.4.16-py36_0                                          --> 2019.6.16-py36_1          conda-forge                    \n",
            "    conda:                  4.5.4-py36_0                                              --> 4.7.10-py36_0             conda-forge                    \n",
            "    cryptography:           2.2.2-py36h14c3975_0                                      --> 2.7-py36h72c5cf5_0        conda-forge                    \n",
            "    cudf:                   0.9.0a-py37_1525          rapidsai-nightly/label/cuda10.0 --> 0.9.0a-py36_1525          rapidsai-nightly/label/cuda10.0\n",
            "    cuml:                   0.9.0a1-cuda10.0_py37_200 rapidsai-nightly/label/cuda10.0 --> 0.9.0a1-cuda10.0_py36_200 rapidsai-nightly/label/cuda10.0\n",
            "    cython:                 0.29.12-py37he1b5a44_0    conda-forge                     --> 0.29.12-py36he1b5a44_0    conda-forge                    \n",
            "    libgcc-ng:              7.2.0-hdf63c60_3                                          --> 9.1.0-hdf63c60_0                                         \n",
            "    libstdcxx-ng:           7.2.0-hdf63c60_3                                          --> 9.1.0-hdf63c60_0                                         \n",
            "    llvmlite:               0.29.0-py37hfd453ef_1     conda-forge                     --> 0.29.0-py36hfd453ef_1     conda-forge                    \n",
            "    numba:                  0.45.0-py37hb3f55d8_0     conda-forge                     --> 0.45.0-py36hb3f55d8_0     conda-forge                    \n",
            "    numpy:                  1.16.4-py37h95a1406_0     conda-forge                     --> 1.16.4-py36h95a1406_0     conda-forge                    \n",
            "    nvstrings:              0.9.0a1-py37_24           rapidsai-nightly/label/cuda10.0 --> 0.9.0a1-py36_24           rapidsai-nightly/label/cuda10.0\n",
            "    openssl:                1.0.2o-h20670df_0                                         --> 1.1.1c-h516909a_0         conda-forge                    \n",
            "    pandas:                 0.25.0-py37hb3f55d8_0     conda-forge                     --> 0.25.0-py36hb3f55d8_0     conda-forge                    \n",
            "    pyarrow:                0.12.1-py37hbbcf98d_0     conda-forge                     --> 0.12.1-py36hbbcf98d_0     conda-forge                    \n",
            "    python:                 3.6.5-hc3d631a_2                                          --> 3.6.7-h381d211_1004       conda-forge                    \n",
            "    rmm:                    0.9.0a1-py37_2            rapidsai-nightly/label/cuda10.0 --> 0.9.0a1-py36_2            rapidsai-nightly/label/cuda10.0\n",
            "    sqlite:                 3.23.1-he433501_0                                         --> 3.28.0-h8b20d00_0         conda-forge                    \n",
            "    tk:                     8.6.7-hc745277_3                                          --> 8.6.9-hed695b0_1002       conda-forge                    \n",
            "\n",
            "Preparing transaction: ...working... done\n",
            "Verifying transaction: ...working... done\n",
            "Executing transaction: ...working... done\n"
          ],
          "name": "stdout"
        }
      ]
    },
    {
      "cell_type": "markdown",
      "metadata": {
        "id": "Ym7LiY2iJnZm",
        "colab_type": "text"
      },
      "source": [
        "## Example 1"
      ]
    },
    {
      "cell_type": "markdown",
      "metadata": {
        "id": "0AqRWojCHi9q",
        "colab_type": "text"
      },
      "source": [
        "In this example I will walk you though how to use RAPIDS libraries cudf and xgboost to preprocess a dataset and then use XGBoost (optimized distributed gradient boosting) to train, make predictions and finally evaluate the model accuracy. Successively I will perform the same tasks using Pandas and Sklearn. For this demonstration I will make use of the Pima Indians Diabetes Dataset: https://www.kaggle.com/uciml/pima-indians-diabetes-database"
      ]
    },
    {
      "cell_type": "markdown",
      "metadata": {
        "id": "Aikt2S3gaRaY",
        "colab_type": "text"
      },
      "source": [
        "### RAPIDS"
      ]
    },
    {
      "cell_type": "code",
      "metadata": {
        "id": "rrt-4UdJpNZI",
        "colab_type": "code",
        "colab": {}
      },
      "source": [
        "# In case you get an import error, run again notebook cell number 3, \n",
        "# to install again miniconda and RAPIDS dependencies. If the problem persists,\n",
        "# Go to Runtime -> Reset all runtimes and then run again the noebook cells (two \n",
        "# times the one for installing miniconda and RAPIDS dependencies)\n",
        "import cudf\n",
        "import xgboost as xgb\n",
        "from sklearn.metrics import accuracy_score"
      ],
      "execution_count": 0,
      "outputs": []
    },
    {
      "cell_type": "code",
      "metadata": {
        "id": "PgoBGcvqNBE2",
        "colab_type": "code",
        "outputId": "b8a97688-19d0-4767-f934-78681f73bc11",
        "colab": {
          "base_uri": "https://localhost:8080/",
          "height": 204
        }
      },
      "source": [
        "df_cudf = cudf.read_csv('/content/pima_indian_data.csv') \n",
        "df_cudf.head().to_pandas()"
      ],
      "execution_count": 0,
      "outputs": [
        {
          "output_type": "execute_result",
          "data": {
            "text/html": [
              "<div>\n",
              "<style scoped>\n",
              "    .dataframe tbody tr th:only-of-type {\n",
              "        vertical-align: middle;\n",
              "    }\n",
              "\n",
              "    .dataframe tbody tr th {\n",
              "        vertical-align: top;\n",
              "    }\n",
              "\n",
              "    .dataframe thead th {\n",
              "        text-align: right;\n",
              "    }\n",
              "</style>\n",
              "<table border=\"1\" class=\"dataframe\">\n",
              "  <thead>\n",
              "    <tr style=\"text-align: right;\">\n",
              "      <th></th>\n",
              "      <th>Pregnancies</th>\n",
              "      <th>Glucose</th>\n",
              "      <th>BloodPressure</th>\n",
              "      <th>SkinThickness</th>\n",
              "      <th>Insulin</th>\n",
              "      <th>BMI</th>\n",
              "      <th>DiabetesPedigreeFunction</th>\n",
              "      <th>Age</th>\n",
              "      <th>Outcome</th>\n",
              "    </tr>\n",
              "  </thead>\n",
              "  <tbody>\n",
              "    <tr>\n",
              "      <th>0</th>\n",
              "      <td>6</td>\n",
              "      <td>148</td>\n",
              "      <td>72</td>\n",
              "      <td>35</td>\n",
              "      <td>0</td>\n",
              "      <td>33.6</td>\n",
              "      <td>0.627</td>\n",
              "      <td>50</td>\n",
              "      <td>1</td>\n",
              "    </tr>\n",
              "    <tr>\n",
              "      <th>1</th>\n",
              "      <td>1</td>\n",
              "      <td>85</td>\n",
              "      <td>66</td>\n",
              "      <td>29</td>\n",
              "      <td>0</td>\n",
              "      <td>26.6</td>\n",
              "      <td>0.351</td>\n",
              "      <td>31</td>\n",
              "      <td>0</td>\n",
              "    </tr>\n",
              "    <tr>\n",
              "      <th>2</th>\n",
              "      <td>8</td>\n",
              "      <td>183</td>\n",
              "      <td>64</td>\n",
              "      <td>0</td>\n",
              "      <td>0</td>\n",
              "      <td>23.3</td>\n",
              "      <td>0.672</td>\n",
              "      <td>32</td>\n",
              "      <td>1</td>\n",
              "    </tr>\n",
              "    <tr>\n",
              "      <th>3</th>\n",
              "      <td>1</td>\n",
              "      <td>89</td>\n",
              "      <td>66</td>\n",
              "      <td>23</td>\n",
              "      <td>94</td>\n",
              "      <td>28.1</td>\n",
              "      <td>0.167</td>\n",
              "      <td>21</td>\n",
              "      <td>0</td>\n",
              "    </tr>\n",
              "    <tr>\n",
              "      <th>4</th>\n",
              "      <td>0</td>\n",
              "      <td>137</td>\n",
              "      <td>40</td>\n",
              "      <td>35</td>\n",
              "      <td>168</td>\n",
              "      <td>43.1</td>\n",
              "      <td>2.288</td>\n",
              "      <td>33</td>\n",
              "      <td>1</td>\n",
              "    </tr>\n",
              "  </tbody>\n",
              "</table>\n",
              "</div>"
            ],
            "text/plain": [
              "   Pregnancies  Glucose  BloodPressure  ...  DiabetesPedigreeFunction  Age  Outcome\n",
              "0            6      148             72  ...                     0.627   50        1\n",
              "1            1       85             66  ...                     0.351   31        0\n",
              "2            8      183             64  ...                     0.672   32        1\n",
              "3            1       89             66  ...                     0.167   21        0\n",
              "4            0      137             40  ...                     2.288   33        1\n",
              "\n",
              "[5 rows x 9 columns]"
            ]
          },
          "metadata": {
            "tags": []
          },
          "execution_count": 310
        }
      ]
    },
    {
      "cell_type": "code",
      "metadata": {
        "id": "SQFbDEUonx9H",
        "colab_type": "code",
        "colab": {}
      },
      "source": [
        "# Encoding labels\n",
        "uniques = {}\n",
        "uniques['Outcome'] = df_cudf['Outcome'].unique_k(k=1000)\n",
        "cats = uniques['Outcome'][1:]  # drop first\n",
        "df_cudf = df_cudf.one_hot_encoding('Outcome', prefix='Outcome', cats=cats)\n",
        "\n",
        "# making sure that all the columns used for classification are of float type\n",
        "for k in df_cudf.columns:\n",
        "    df_cudf[k] = df_cudf[k].astype(float)\n",
        "    \n",
        "# Dividing the dataset in features and labels\n",
        "X = df_cudf.drop(['Outcome', 'Outcome_1'], axis = 1).to_pandas().values\n",
        "\n",
        "y = df_cudf['Outcome_1'].to_pandas().values\n",
        "\n",
        "# df_cudf.head().to_pandas()\n",
        "\n",
        "# Alternatively:\n",
        "# num_rows, num_columns = df_cudf.shape\n",
        "# X = df_cudf.drop(['Outcome', 'Outcome_1'], axis = 1)\n",
        "# X = X.as_gpu_matrix(columns=df_cudf.iloc[:,0:num_columns-2])\n",
        "\n",
        "# y = cudf.DataFrame({'Outcome_1' : df_cudf['Outcome_1']})\n",
        "# y = y.as_gpu_matrix(columns=y.columns)"
      ],
      "execution_count": 0,
      "outputs": []
    },
    {
      "cell_type": "code",
      "metadata": {
        "id": "uL8K1roonf7c",
        "colab_type": "code",
        "outputId": "387420e3-cce1-42d3-8421-67a9ef59e31d",
        "colab": {
          "base_uri": "https://localhost:8080/",
          "height": 85
        }
      },
      "source": [
        "train_size = 0.80\n",
        "\n",
        "# identify shape and indices\n",
        "num_rows, num_columns = df_cudf.shape\n",
        "delim_index = int(num_rows * train_size)\n",
        "\n",
        "# Splitting the dataset in training and test sets\n",
        "X_train, y_train = X[:delim_index, :], y[:delim_index]\n",
        "X_test, y_test = X[delim_index:, :], y[delim_index:]\n",
        "\n",
        "# Checking sets dimensions\n",
        "print('X_train dimensions: ', X_train.shape, 'y_train: ', y_train.shape)\n",
        "print('X_test dimensions:', X_test.shape, 'y_validation: ', y_test.shape)\n",
        "\n",
        "# Checking dimensions in percentages\n",
        "total = X_train.shape[0] + X_test.shape[0]\n",
        "print('X_train Percentage:', (X_train.shape[0]/total)*100, '%')\n",
        "print('X_test Percentage:', (X_test.shape[0]/total)*100, '%')\n",
        "\n",
        "#X_train.as_gpu_matrix(columns=X.columns)"
      ],
      "execution_count": 0,
      "outputs": [
        {
          "output_type": "stream",
          "text": [
            "X_train dimensions:  (614, 8) y_train:  (614,)\n",
            "X_test dimensions: (154, 8) y_validation:  (154,)\n",
            "X_train Percentage: 79.94791666666666 %\n",
            "X_test Percentage: 20.052083333333336 %\n"
          ],
          "name": "stdout"
        }
      ]
    },
    {
      "cell_type": "code",
      "metadata": {
        "id": "fy_5HOvYpcFm",
        "colab_type": "code",
        "colab": {}
      },
      "source": [
        "dtrain = xgb.DMatrix(X_train, label=y_train)\n",
        "dtest = xgb.DMatrix(X_test, label=y_test)"
      ],
      "execution_count": 0,
      "outputs": []
    },
    {
      "cell_type": "code",
      "metadata": {
        "id": "WgkpGZe0qJpk",
        "colab_type": "code",
        "outputId": "f2a6878b-d221-480f-8abe-dd64427c16ca",
        "colab": {
          "base_uri": "https://localhost:8080/",
          "height": 51
        }
      },
      "source": [
        "%%time\n",
        "\n",
        "# Initial xgb parameters\n",
        "params = {}\n",
        "\n",
        "clf = xgb.train(params, dtrain)"
      ],
      "execution_count": 0,
      "outputs": [
        {
          "output_type": "stream",
          "text": [
            "CPU times: user 28.6 ms, sys: 1.83 ms, total: 30.4 ms\n",
            "Wall time: 27.6 ms\n"
          ],
          "name": "stdout"
        }
      ]
    },
    {
      "cell_type": "code",
      "metadata": {
        "id": "L2AWPgdOapuF",
        "colab_type": "code",
        "outputId": "5045178d-c444-4b5a-e629-676dd3fdc411",
        "colab": {
          "base_uri": "https://localhost:8080/",
          "height": 51
        }
      },
      "source": [
        "%%time\n",
        "\n",
        "rapids_pred = clf.predict(dtest)\n",
        "rapids_pred"
      ],
      "execution_count": 0,
      "outputs": [
        {
          "output_type": "stream",
          "text": [
            "CPU times: user 5.69 ms, sys: 1.37 ms, total: 7.07 ms\n",
            "Wall time: 7.69 ms\n"
          ],
          "name": "stdout"
        }
      ]
    },
    {
      "cell_type": "code",
      "metadata": {
        "id": "GC9ib_CqbLnz",
        "colab_type": "code",
        "outputId": "73c78f56-4b46-4b7e-a99b-e56cda50e062",
        "colab": {
          "base_uri": "https://localhost:8080/",
          "height": 34
        }
      },
      "source": [
        "rapids_pred = np.round(rapids_pred)\n",
        "rapids_acc = accuracy_score(y_test, rapids_pred)\n",
        "print(\"XGB accuracy using RAPIDS:\", rapids_acc*100, '%')"
      ],
      "execution_count": 0,
      "outputs": [
        {
          "output_type": "stream",
          "text": [
            "XGB accuracy using RAPIDS: 75.97402597402598 %\n"
          ],
          "name": "stdout"
        }
      ]
    },
    {
      "cell_type": "markdown",
      "metadata": {
        "id": "h-RCqUSyaV6t",
        "colab_type": "text"
      },
      "source": [
        "### Sklearn"
      ]
    },
    {
      "cell_type": "code",
      "metadata": {
        "id": "oghRIZxnadae",
        "colab_type": "code",
        "colab": {}
      },
      "source": [
        "import numpy as np\n",
        "import pandas as pd\n",
        "from sklearn.preprocessing import StandardScaler\n",
        "from sklearn.model_selection import train_test_split\n",
        "from sklearn import preprocessing\n",
        "from xgboost import XGBClassifier"
      ],
      "execution_count": 0,
      "outputs": []
    },
    {
      "cell_type": "code",
      "metadata": {
        "id": "sxm06iriptw8",
        "colab_type": "code",
        "outputId": "532330d3-fc60-47e6-cb58-b9622846a903",
        "colab": {
          "base_uri": "https://localhost:8080/",
          "height": 204
        }
      },
      "source": [
        "df = pd.read_csv(\"/content/pima_indian_data.csv\")\n",
        "\n",
        "df.head()"
      ],
      "execution_count": 0,
      "outputs": [
        {
          "output_type": "execute_result",
          "data": {
            "text/html": [
              "<div>\n",
              "<style scoped>\n",
              "    .dataframe tbody tr th:only-of-type {\n",
              "        vertical-align: middle;\n",
              "    }\n",
              "\n",
              "    .dataframe tbody tr th {\n",
              "        vertical-align: top;\n",
              "    }\n",
              "\n",
              "    .dataframe thead th {\n",
              "        text-align: right;\n",
              "    }\n",
              "</style>\n",
              "<table border=\"1\" class=\"dataframe\">\n",
              "  <thead>\n",
              "    <tr style=\"text-align: right;\">\n",
              "      <th></th>\n",
              "      <th>Pregnancies</th>\n",
              "      <th>Glucose</th>\n",
              "      <th>BloodPressure</th>\n",
              "      <th>SkinThickness</th>\n",
              "      <th>Insulin</th>\n",
              "      <th>BMI</th>\n",
              "      <th>DiabetesPedigreeFunction</th>\n",
              "      <th>Age</th>\n",
              "      <th>Outcome</th>\n",
              "    </tr>\n",
              "  </thead>\n",
              "  <tbody>\n",
              "    <tr>\n",
              "      <th>0</th>\n",
              "      <td>6</td>\n",
              "      <td>148</td>\n",
              "      <td>72</td>\n",
              "      <td>35</td>\n",
              "      <td>0</td>\n",
              "      <td>33.6</td>\n",
              "      <td>0.627</td>\n",
              "      <td>50</td>\n",
              "      <td>1</td>\n",
              "    </tr>\n",
              "    <tr>\n",
              "      <th>1</th>\n",
              "      <td>1</td>\n",
              "      <td>85</td>\n",
              "      <td>66</td>\n",
              "      <td>29</td>\n",
              "      <td>0</td>\n",
              "      <td>26.6</td>\n",
              "      <td>0.351</td>\n",
              "      <td>31</td>\n",
              "      <td>0</td>\n",
              "    </tr>\n",
              "    <tr>\n",
              "      <th>2</th>\n",
              "      <td>8</td>\n",
              "      <td>183</td>\n",
              "      <td>64</td>\n",
              "      <td>0</td>\n",
              "      <td>0</td>\n",
              "      <td>23.3</td>\n",
              "      <td>0.672</td>\n",
              "      <td>32</td>\n",
              "      <td>1</td>\n",
              "    </tr>\n",
              "    <tr>\n",
              "      <th>3</th>\n",
              "      <td>1</td>\n",
              "      <td>89</td>\n",
              "      <td>66</td>\n",
              "      <td>23</td>\n",
              "      <td>94</td>\n",
              "      <td>28.1</td>\n",
              "      <td>0.167</td>\n",
              "      <td>21</td>\n",
              "      <td>0</td>\n",
              "    </tr>\n",
              "    <tr>\n",
              "      <th>4</th>\n",
              "      <td>0</td>\n",
              "      <td>137</td>\n",
              "      <td>40</td>\n",
              "      <td>35</td>\n",
              "      <td>168</td>\n",
              "      <td>43.1</td>\n",
              "      <td>2.288</td>\n",
              "      <td>33</td>\n",
              "      <td>1</td>\n",
              "    </tr>\n",
              "  </tbody>\n",
              "</table>\n",
              "</div>"
            ],
            "text/plain": [
              "   Pregnancies  Glucose  BloodPressure  ...  DiabetesPedigreeFunction  Age  Outcome\n",
              "0            6      148             72  ...                     0.627   50        1\n",
              "1            1       85             66  ...                     0.351   31        0\n",
              "2            8      183             64  ...                     0.672   32        1\n",
              "3            1       89             66  ...                     0.167   21        0\n",
              "4            0      137             40  ...                     2.288   33        1\n",
              "\n",
              "[5 rows x 9 columns]"
            ]
          },
          "metadata": {
            "tags": []
          },
          "execution_count": 274
        }
      ]
    },
    {
      "cell_type": "code",
      "metadata": {
        "id": "jyusQAV8pXla",
        "colab_type": "code",
        "outputId": "0696c0c7-8469-44a3-88f2-e0fbf992e669",
        "colab": {
          "base_uri": "https://localhost:8080/",
          "height": 85
        }
      },
      "source": [
        "X = df.drop(['Outcome'], axis = 1).values\n",
        "y = df['Outcome']\n",
        "\n",
        "X = StandardScaler().fit_transform(X)\n",
        "\n",
        "X_train, X_test, y_train, y_test = train_test_split(X, y, test_size = 0.20)\n",
        "\n",
        "# Checking sets dimensions\n",
        "print('X_train dimensions: ', X_train.shape, 'y_train: ', y_train.shape)\n",
        "print('X_test dimensions:', X_test.shape, 'y_validation: ', y_test.shape)\n",
        "\n",
        "# Checking dimensions in percentages\n",
        "total = X_train.shape[0] + X_test.shape[0]\n",
        "print('X_train Percentage:', (X_train.shape[0]/total)*100, '%')\n",
        "print('X_test Percentage:', (X_test.shape[0]/total)*100, '%')"
      ],
      "execution_count": 0,
      "outputs": [
        {
          "output_type": "stream",
          "text": [
            "X_train dimensions:  (614, 8) y_train:  (614,)\n",
            "X_test dimensions: (154, 8) y_validation:  (154,)\n",
            "X_train Percentage: 79.94791666666666 %\n",
            "X_test Percentage: 20.052083333333336 %\n"
          ],
          "name": "stdout"
        }
      ]
    },
    {
      "cell_type": "code",
      "metadata": {
        "id": "SpxzyxAsqv0M",
        "colab_type": "code",
        "outputId": "2f4b2297-93d6-4b1c-9fa8-11f3414f6935",
        "colab": {
          "base_uri": "https://localhost:8080/",
          "height": 51
        }
      },
      "source": [
        "%%time\n",
        "\n",
        "model = XGBClassifier()\n",
        "model.fit(X_train, y_train)"
      ],
      "execution_count": 0,
      "outputs": [
        {
          "output_type": "stream",
          "text": [
            "CPU times: user 41.6 ms, sys: 2.01 ms, total: 43.6 ms\n",
            "Wall time: 44.6 ms\n"
          ],
          "name": "stdout"
        }
      ]
    },
    {
      "cell_type": "code",
      "metadata": {
        "id": "-WnrlKsEa6JK",
        "colab_type": "code",
        "outputId": "e2dc3674-a449-49f6-b5ed-3a36eb4dc9c3",
        "colab": {
          "base_uri": "https://localhost:8080/",
          "height": 51
        }
      },
      "source": [
        "%%time\n",
        "\n",
        "sk_pred = model.predict(X_test)\n",
        "sk_pred"
      ],
      "execution_count": 0,
      "outputs": [
        {
          "output_type": "stream",
          "text": [
            "CPU times: user 2.42 ms, sys: 2 µs, total: 2.42 ms\n",
            "Wall time: 2.44 ms\n"
          ],
          "name": "stdout"
        }
      ]
    },
    {
      "cell_type": "code",
      "metadata": {
        "id": "21Y-KhvobP1f",
        "colab_type": "code",
        "outputId": "b8ba7cb5-ae1c-4222-a275-288050e7e03d",
        "colab": {
          "base_uri": "https://localhost:8080/",
          "height": 34
        }
      },
      "source": [
        "sk_pred = np.round(sk_pred)\n",
        "sk_acc = accuracy_score(y_test, sk_pred)\n",
        "print(\"XGB accuracy using Sklearn:\", sk_acc*100, '%')"
      ],
      "execution_count": 0,
      "outputs": [
        {
          "output_type": "stream",
          "text": [
            "XGB accuracy using Sklearn: 75.32467532467533 %\n"
          ],
          "name": "stdout"
        }
      ]
    },
    {
      "cell_type": "markdown",
      "metadata": {
        "id": "TrBlYeGkJDav",
        "colab_type": "text"
      },
      "source": [
        "As result of this analysis, using RAPIDS libraries lead to a faster exacution (eg. 713 µs for training vs 44.6 ms) and sligthly better accuracy. "
      ]
    },
    {
      "cell_type": "markdown",
      "metadata": {
        "id": "4lIGyLNgJtYG",
        "colab_type": "text"
      },
      "source": [
        "## Example 2"
      ]
    },
    {
      "cell_type": "markdown",
      "metadata": {
        "id": "qk9CxKxmJgA3",
        "colab_type": "text"
      },
      "source": [
        "In this example I will insted use Pandas for the preprocessing of both the RAPIDS and Sklearn classifiers and I will also fabricate a dataset of bigger dimensions compared to the Pima Diabetes Indian Dataset. In this way it will become more evident how RAPIDS can axcellerate data analysis execution."
      ]
    },
    {
      "cell_type": "markdown",
      "metadata": {
        "colab_type": "text",
        "id": "1kajvYbwgWsk"
      },
      "source": [
        "### Preprocessing"
      ]
    },
    {
      "cell_type": "code",
      "metadata": {
        "id": "Nvt4jKsaEgv1",
        "colab_type": "code",
        "outputId": "d015c00d-f282-4a2c-ceee-a33ea4863a0e",
        "colab": {
          "base_uri": "https://localhost:8080/",
          "height": 204
        }
      },
      "source": [
        "# Creating a linearly separable dataset using Gaussian Distributions.\n",
        "# The first half of the number in Y is 0 and the other half 1.\n",
        "# Therefore I made the first half of the two features quite different from\n",
        "# the second half of the features (setting the value of the means quite \n",
        "# similar) so that make quite simple the classification between the \n",
        "# classes (the data is linearly separable).\n",
        "dataset_len = 8000000\n",
        "dlen = int(dataset_len/2)\n",
        "X_11 = pd.Series(np.random.normal(2,2,dlen))\n",
        "X_12 = pd.Series(np.random.normal(9,2,dlen))\n",
        "X_1 = pd.concat([X_11, X_12]).reset_index(drop=True)\n",
        "X_21 = pd.Series(np.random.normal(1,3,dlen))\n",
        "X_22 = pd.Series(np.random.normal(7,3,dlen))\n",
        "X_2 = pd.concat([X_21, X_22]).reset_index(drop=True)\n",
        "X_31 = pd.Series(np.random.normal(3,1,dlen))\n",
        "X_32 = pd.Series(np.random.normal(3,4,dlen))\n",
        "X_3 = pd.concat([X_31, X_32]).reset_index(drop=True)\n",
        "Y = pd.Series(np.repeat([0,1],dlen))\n",
        "df = pd.concat([X_1, X_2, X_3, Y], axis=1)\n",
        "df.columns = ['X1', 'X2', 'X3', 'Y']\n",
        "df.head()"
      ],
      "execution_count": 0,
      "outputs": [
        {
          "output_type": "execute_result",
          "data": {
            "text/html": [
              "<div>\n",
              "<style scoped>\n",
              "    .dataframe tbody tr th:only-of-type {\n",
              "        vertical-align: middle;\n",
              "    }\n",
              "\n",
              "    .dataframe tbody tr th {\n",
              "        vertical-align: top;\n",
              "    }\n",
              "\n",
              "    .dataframe thead th {\n",
              "        text-align: right;\n",
              "    }\n",
              "</style>\n",
              "<table border=\"1\" class=\"dataframe\">\n",
              "  <thead>\n",
              "    <tr style=\"text-align: right;\">\n",
              "      <th></th>\n",
              "      <th>X1</th>\n",
              "      <th>X2</th>\n",
              "      <th>X3</th>\n",
              "      <th>Y</th>\n",
              "    </tr>\n",
              "  </thead>\n",
              "  <tbody>\n",
              "    <tr>\n",
              "      <th>0</th>\n",
              "      <td>0.879987</td>\n",
              "      <td>3.121732</td>\n",
              "      <td>4.077546</td>\n",
              "      <td>0</td>\n",
              "    </tr>\n",
              "    <tr>\n",
              "      <th>1</th>\n",
              "      <td>1.492813</td>\n",
              "      <td>0.985051</td>\n",
              "      <td>2.971663</td>\n",
              "      <td>0</td>\n",
              "    </tr>\n",
              "    <tr>\n",
              "      <th>2</th>\n",
              "      <td>1.490237</td>\n",
              "      <td>0.875160</td>\n",
              "      <td>2.073321</td>\n",
              "      <td>0</td>\n",
              "    </tr>\n",
              "    <tr>\n",
              "      <th>3</th>\n",
              "      <td>3.747358</td>\n",
              "      <td>5.388664</td>\n",
              "      <td>4.040363</td>\n",
              "      <td>0</td>\n",
              "    </tr>\n",
              "    <tr>\n",
              "      <th>4</th>\n",
              "      <td>2.343462</td>\n",
              "      <td>1.030326</td>\n",
              "      <td>2.791691</td>\n",
              "      <td>0</td>\n",
              "    </tr>\n",
              "  </tbody>\n",
              "</table>\n",
              "</div>"
            ],
            "text/plain": [
              "         X1        X2        X3  Y\n",
              "0  0.879987  3.121732  4.077546  0\n",
              "1  1.492813  0.985051  2.971663  0\n",
              "2  1.490237  0.875160  2.073321  0\n",
              "3  3.747358  5.388664  4.040363  0\n",
              "4  2.343462  1.030326  2.791691  0"
            ]
          },
          "metadata": {
            "tags": []
          },
          "execution_count": 130
        }
      ]
    },
    {
      "cell_type": "code",
      "metadata": {
        "id": "LRpXXnY_kOkD",
        "colab_type": "code",
        "colab": {}
      },
      "source": [
        "X = df.drop(['Y'], axis = 1).values\n",
        "y = df['Y']"
      ],
      "execution_count": 0,
      "outputs": []
    },
    {
      "cell_type": "code",
      "metadata": {
        "id": "-XqymBWUEgqi",
        "colab_type": "code",
        "colab": {}
      },
      "source": [
        "def preproces(df, X, y, train_size = 0.80):\n",
        "  # label_encoder object knows how to understand word labels. \n",
        "  label_encoder = preprocessing.LabelEncoder() \n",
        "\n",
        "  # Encode labels\n",
        "  y = label_encoder.fit_transform(y) \n",
        "\n",
        "  # identify shape and indices\n",
        "  num_rows, num_columns = df.shape\n",
        "  delim_index = int(num_rows * train_size)\n",
        "\n",
        "  # Splitting the dataset in training and test sets\n",
        "  X_train, y_train = X[:delim_index, :], y[:delim_index]\n",
        "  X_test, y_test = X[delim_index:, :], y[delim_index:]\n",
        "\n",
        "  # Checking sets dimensions\n",
        "  print('X_train dimensions: ', X_train.shape, 'y_train: ', y_train.shape)\n",
        "  print('X_test dimensions:', X_test.shape, 'y_validation: ', y_test.shape)\n",
        "\n",
        "  # Checking dimensions in percentages\n",
        "  total = X_train.shape[0] + X_test.shape[0]\n",
        "  print('X_train Percentage:', (X_train.shape[0]/total)*100, '%')\n",
        "  print('X_test Percentage:', (X_test.shape[0]/total)*100, '%')\n",
        "  \n",
        "  return X_train, y_train, X_test, y_test"
      ],
      "execution_count": 0,
      "outputs": []
    },
    {
      "cell_type": "code",
      "metadata": {
        "id": "hsM2Vm3UkRYo",
        "colab_type": "code",
        "outputId": "88bc43b7-788c-473d-f7fa-ebae40dc2aed",
        "colab": {
          "base_uri": "https://localhost:8080/",
          "height": 85
        }
      },
      "source": [
        "X_train, y_train, X_test, y_test = preproces(df, X, y)"
      ],
      "execution_count": 0,
      "outputs": [
        {
          "output_type": "stream",
          "text": [
            "X_train dimensions:  (6400000, 3) y_train:  (6400000,)\n",
            "X_test dimensions: (1600000, 3) y_validation:  (1600000,)\n",
            "X_train Percentage: 80.0 %\n",
            "X_test Percentage: 20.0 %\n"
          ],
          "name": "stdout"
        }
      ]
    },
    {
      "cell_type": "markdown",
      "metadata": {
        "colab_type": "text",
        "id": "VGmKTlidgcXc"
      },
      "source": [
        "### RAPIDS"
      ]
    },
    {
      "cell_type": "code",
      "metadata": {
        "id": "JELLBsAgcHgH",
        "colab_type": "code",
        "colab": {}
      },
      "source": [
        "dtrain = xgb.DMatrix(X_train, label=y_train)\n",
        "dtest = xgb.DMatrix(X_test, label=y_test)"
      ],
      "execution_count": 0,
      "outputs": []
    },
    {
      "cell_type": "code",
      "metadata": {
        "id": "xabaWbF1cP79",
        "colab_type": "code",
        "outputId": "84b03858-e7f7-4c1b-ca49-341d8c6205d5",
        "colab": {
          "base_uri": "https://localhost:8080/",
          "height": 68
        }
      },
      "source": [
        "%%time\n",
        "\n",
        "# Initial xgb parameters\n",
        "params = {}\n",
        "\n",
        "clf = xgb.train(params, dtrain)"
      ],
      "execution_count": 0,
      "outputs": [
        {
          "output_type": "stream",
          "text": [
            "[18:59:06] WARNING: /workspace/src/learner.cc:686: Tree method is automatically selected to be 'approx' for faster speed. To use old behavior (exact greedy algorithm on single machine), set tree_method to 'exact'.\n",
            "CPU times: user 1min 59s, sys: 197 ms, total: 2min\n",
            "Wall time: 2min\n"
          ],
          "name": "stdout"
        }
      ]
    },
    {
      "cell_type": "code",
      "metadata": {
        "id": "GzylNF_mccGZ",
        "colab_type": "code",
        "outputId": "df4e1e93-238f-467a-fe48-76fd79ab1592",
        "colab": {
          "base_uri": "https://localhost:8080/",
          "height": 51
        }
      },
      "source": [
        "%%time\n",
        "\n",
        "rapids_pred = clf.predict(dtest)\n",
        "rapids_pred"
      ],
      "execution_count": 0,
      "outputs": [
        {
          "output_type": "stream",
          "text": [
            "CPU times: user 624 ms, sys: 3.01 ms, total: 627 ms\n",
            "Wall time: 633 ms\n"
          ],
          "name": "stdout"
        }
      ]
    },
    {
      "cell_type": "code",
      "metadata": {
        "id": "l-DWZfpBcm8m",
        "colab_type": "code",
        "outputId": "2dc4c2f5-61a1-4d9f-dc1a-0934cd311c4c",
        "colab": {
          "base_uri": "https://localhost:8080/",
          "height": 34
        }
      },
      "source": [
        "rapids_pred = np.round(rapids_pred)\n",
        "rapids_acc = round(accuracy_score(y_test, rapids_pred), 2)\n",
        "print(\"XGB accuracy using RAPIDS:\", rapids_acc*100, '%')"
      ],
      "execution_count": 0,
      "outputs": [
        {
          "output_type": "stream",
          "text": [
            "XGB accuracy using RAPIDS: 98.0 %\n"
          ],
          "name": "stdout"
        }
      ]
    },
    {
      "cell_type": "markdown",
      "metadata": {
        "colab_type": "text",
        "id": "IFFmHkyKgfK8"
      },
      "source": [
        "### Sklearn"
      ]
    },
    {
      "cell_type": "code",
      "metadata": {
        "id": "zqEGdY4kcpf9",
        "colab_type": "code",
        "outputId": "dd9cf004-ec70-4dc7-f5b6-d946905f2f09",
        "colab": {
          "base_uri": "https://localhost:8080/",
          "height": 68
        }
      },
      "source": [
        "%%time\n",
        "\n",
        "model = XGBClassifier()\n",
        "model.fit(X_train, y_train)"
      ],
      "execution_count": 0,
      "outputs": [
        {
          "output_type": "stream",
          "text": [
            "[19:01:59] WARNING: /workspace/src/learner.cc:686: Tree method is automatically selected to be 'approx' for faster speed. To use old behavior (exact greedy algorithm on single machine), set tree_method to 'exact'.\n",
            "CPU times: user 11min 44s, sys: 670 ms, total: 11min 44s\n",
            "Wall time: 11min 44s\n"
          ],
          "name": "stdout"
        }
      ]
    },
    {
      "cell_type": "code",
      "metadata": {
        "id": "5F3fx4Y2crXX",
        "colab_type": "code",
        "outputId": "9f611961-80a8-4ec8-c807-579e7b9194a4",
        "colab": {
          "base_uri": "https://localhost:8080/",
          "height": 51
        }
      },
      "source": [
        "%%time\n",
        "\n",
        "sk_pred = model.predict(X_test)\n",
        "sk_pred"
      ],
      "execution_count": 0,
      "outputs": [
        {
          "output_type": "stream",
          "text": [
            "CPU times: user 3.64 s, sys: 4 ms, total: 3.65 s\n",
            "Wall time: 3.65 s\n"
          ],
          "name": "stdout"
        }
      ]
    },
    {
      "cell_type": "code",
      "metadata": {
        "id": "HBqLeOr1cs8g",
        "colab_type": "code",
        "outputId": "2712e74e-db10-4797-b25f-db948f60a64c",
        "colab": {
          "base_uri": "https://localhost:8080/",
          "height": 34
        }
      },
      "source": [
        "sk_pred = np.round(sk_pred)\n",
        "sk_acc = round(accuracy_score(y_test, sk_pred), 2)\n",
        "print(\"XGB accuracy using Sklearn:\", sk_acc*100, '%')"
      ],
      "execution_count": 0,
      "outputs": [
        {
          "output_type": "stream",
          "text": [
            "XGB accuracy using Sklearn: 98.0 %\n"
          ],
          "name": "stdout"
        }
      ]
    },
    {
      "cell_type": "markdown",
      "metadata": {
        "id": "qhPVntaSLCT9",
        "colab_type": "text"
      },
      "source": [
        "As can be seen in this demonstration, using RAPIDS axcellerated training times by about 5.5x (2 minutes vs 11 minutes)"
      ]
    },
    {
      "cell_type": "markdown",
      "metadata": {
        "id": "5eWnH88qJfPU",
        "colab_type": "text"
      },
      "source": [
        "## Example 3"
      ]
    },
    {
      "cell_type": "markdown",
      "metadata": {
        "id": "__FtB97beniF",
        "colab_type": "text"
      },
      "source": [
        "In this exaple I will walk you through how to use Linear Regression using the CUML RAPIDS library and then compare the results with the same anaylis using Sklearn. Also for this example I fabricated a dataset, this time suitable for a regression analysis. The CUML library provides many other algorithms such as Random Forest, K-Nearest-Neighbour (KNN) and Stochastic Gradient Descent. If you want to find out more, you can refer here to the official documentation: https://github.com/rapidsai/cuml"
      ]
    },
    {
      "cell_type": "markdown",
      "metadata": {
        "colab_type": "text",
        "id": "7Few-7BZdWc3"
      },
      "source": [
        "### Preprocessing"
      ]
    },
    {
      "cell_type": "code",
      "metadata": {
        "id": "LFtCKcG3GRL8",
        "colab_type": "code",
        "colab": {}
      },
      "source": [
        "from math import exp\n",
        "import cuml\n",
        "from cuml import LinearRegression as cuLinearRegression\n",
        "from sklearn.linear_model import LinearRegression as skLinearRegression\n",
        "from sklearn.datasets import make_regression\n",
        "from sklearn.metrics import mean_squared_error\n",
        "import matplotlib.pyplot as plt \n",
        "from mpl_toolkits.mplot3d import Axes3D"
      ],
      "execution_count": 0,
      "outputs": []
    },
    {
      "cell_type": "code",
      "metadata": {
        "id": "78uzSoO7MGO_",
        "colab_type": "code",
        "outputId": "5e7950e5-3351-4af5-f5fd-d727dbb35e4c",
        "colab": {
          "base_uri": "https://localhost:8080/",
          "height": 204
        }
      },
      "source": [
        "N = 10000\n",
        "\n",
        "house_price = [0.27*exp(-0.27*_) for _ in range(0,N)] \n",
        "house_price = np.array(house_price,dtype=np.float64)\n",
        "# Normalize data to prevent inf loss\n",
        "house_price = pd.Series(house_price/house_price.max(axis=0))\n",
        "\n",
        "house_age = range(0, N) \n",
        "house_age = np.array(house_age,dtype=np.float64)\n",
        "# Normalize data to prevent inf loss\n",
        "house_age = pd.Series(house_age/house_age.max(axis=0))\n",
        "\n",
        "X = pd.concat([house_price, house_age], axis=1)\n",
        "\n",
        "houses_sold = [0.01*exp(0.015*_) for _ in range(0,N)]\n",
        "houses_sold = np.array(houses_sold,dtype=np.float64)\n",
        "# Normalize data to prevent inf loss\n",
        "y = pd.Series(houses_sold/houses_sold.max(axis=0))\n",
        "\n",
        "df = pd.concat([house_price, house_age, y], axis=1)\n",
        "df.columns = ['house_price', 'house_age', 'houses_sold']\n",
        "df.head()"
      ],
      "execution_count": 0,
      "outputs": [
        {
          "output_type": "execute_result",
          "data": {
            "text/html": [
              "<div>\n",
              "<style scoped>\n",
              "    .dataframe tbody tr th:only-of-type {\n",
              "        vertical-align: middle;\n",
              "    }\n",
              "\n",
              "    .dataframe tbody tr th {\n",
              "        vertical-align: top;\n",
              "    }\n",
              "\n",
              "    .dataframe thead th {\n",
              "        text-align: right;\n",
              "    }\n",
              "</style>\n",
              "<table border=\"1\" class=\"dataframe\">\n",
              "  <thead>\n",
              "    <tr style=\"text-align: right;\">\n",
              "      <th></th>\n",
              "      <th>house_price</th>\n",
              "      <th>house_age</th>\n",
              "      <th>houses_sold</th>\n",
              "    </tr>\n",
              "  </thead>\n",
              "  <tbody>\n",
              "    <tr>\n",
              "      <th>0</th>\n",
              "      <td>1.000000</td>\n",
              "      <td>0.0000</td>\n",
              "      <td>7.283534e-66</td>\n",
              "    </tr>\n",
              "    <tr>\n",
              "      <th>1</th>\n",
              "      <td>0.763379</td>\n",
              "      <td>0.0001</td>\n",
              "      <td>7.393610e-66</td>\n",
              "    </tr>\n",
              "    <tr>\n",
              "      <th>2</th>\n",
              "      <td>0.582748</td>\n",
              "      <td>0.0002</td>\n",
              "      <td>7.505350e-66</td>\n",
              "    </tr>\n",
              "    <tr>\n",
              "      <th>3</th>\n",
              "      <td>0.444858</td>\n",
              "      <td>0.0003</td>\n",
              "      <td>7.618779e-66</td>\n",
              "    </tr>\n",
              "    <tr>\n",
              "      <th>4</th>\n",
              "      <td>0.339596</td>\n",
              "      <td>0.0004</td>\n",
              "      <td>7.733922e-66</td>\n",
              "    </tr>\n",
              "  </tbody>\n",
              "</table>\n",
              "</div>"
            ],
            "text/plain": [
              "   house_price  house_age   houses_sold\n",
              "0     1.000000     0.0000  7.283534e-66\n",
              "1     0.763379     0.0001  7.393610e-66\n",
              "2     0.582748     0.0002  7.505350e-66\n",
              "3     0.444858     0.0003  7.618779e-66\n",
              "4     0.339596     0.0004  7.733922e-66"
            ]
          },
          "metadata": {
            "tags": []
          },
          "execution_count": 484
        }
      ]
    },
    {
      "cell_type": "code",
      "metadata": {
        "id": "FdVm-xHGQnq5",
        "colab_type": "code",
        "outputId": "fd1efde2-e969-43c4-acfa-581a835fc8f7",
        "colab": {
          "base_uri": "https://localhost:8080/",
          "height": 319
        }
      },
      "source": [
        "fig = pyplot.figure()\n",
        "ax = Axes3D(fig)\n",
        "\n",
        "\n",
        "ax.scatter(house_price, house_age, houses_sold)\n",
        "ax.set_xlabel('House prices')\n",
        "ax.set_ylabel('House Age')\n",
        "ax.set_zlabel('Houses sold')\n",
        "ax.set_title('Simple Linear Regression Example')\n",
        "\n",
        "plt.show()"
      ],
      "execution_count": 0,
      "outputs": [
        {
          "output_type": "display_data",
          "data": {
            "image/png": "[encoded data removed]",
            "text/plain": [
              "<Figure size 432x288 with 1 Axes>"
            ]
          },
          "metadata": {
            "tags": []
          }
        }
      ]
    },
    {
      "cell_type": "code",
      "metadata": {
        "id": "ZpLtkJePRiYB",
        "colab_type": "code",
        "colab": {}
      },
      "source": [
        "def regr_preproces(df, X, y, train_size = 0.80):\n",
        "\n",
        "  # identify shape and indices\n",
        "  num_rows, num_columns = df.shape\n",
        "  delim_index = int(num_rows * train_size)\n",
        "\n",
        "  # Splitting the dataset in training and test sets\n",
        "  X_train, y_train = X[:delim_index, :], y[:delim_index]\n",
        "  X_test, y_test = X[delim_index:, :], y[delim_index:]\n",
        "\n",
        "  # Checking sets dimensions\n",
        "  print('X_train dimensions: ', X_train.shape, 'y_train: ', y_train.shape)\n",
        "  print('X_test dimensions:', X_test.shape, 'y_validation: ', y_test.shape)\n",
        "\n",
        "  # Checking dimensions in percentages\n",
        "  total = X_train.shape[0] + X_test.shape[0]\n",
        "  print('X_train Percentage:', (X_train.shape[0]/total)*100, '%')\n",
        "  print('X_test Percentage:', (X_test.shape[0]/total)*100, '%')\n",
        "  \n",
        "  return X_train, y_train, X_test, y_test"
      ],
      "execution_count": 0,
      "outputs": []
    },
    {
      "cell_type": "code",
      "metadata": {
        "id": "Gc1u_mTWNvCP",
        "colab_type": "code",
        "outputId": "7e9defeb-8db9-4155-99d2-abad7ba00f2f",
        "colab": {
          "base_uri": "https://localhost:8080/",
          "height": 85
        }
      },
      "source": [
        "X_train, y_train, X_test, y_test = regr_preproces(df, X.values, y.values)"
      ],
      "execution_count": 0,
      "outputs": [
        {
          "output_type": "stream",
          "text": [
            "X_train dimensions:  (8000, 2) y_train:  (8000,)\n",
            "X_test dimensions: (2000, 2) y_validation:  (2000,)\n",
            "X_train Percentage: 80.0 %\n",
            "X_test Percentage: 20.0 %\n"
          ],
          "name": "stdout"
        }
      ]
    },
    {
      "cell_type": "markdown",
      "metadata": {
        "colab_type": "text",
        "id": "etoLqH_fdORU"
      },
      "source": [
        "### RAPIDS"
      ]
    },
    {
      "cell_type": "code",
      "metadata": {
        "id": "wFo7PIniP2_m",
        "colab_type": "code",
        "outputId": "0f7eafee-84c2-45be-8c40-d70f292dd7f1",
        "colab": {
          "base_uri": "https://localhost:8080/",
          "height": 51
        }
      },
      "source": [
        "%%time\n",
        "# run the cuml linear regression model to fit the training dataset \n",
        "rapids = cuLinearRegression(fit_intercept=True,\n",
        "                  normalize=True,\n",
        "                  algorithm='eig')\n",
        "rapids.fit(X_train, y_train)"
      ],
      "execution_count": 0,
      "outputs": [
        {
          "output_type": "stream",
          "text": [
            "CPU times: user 112 ms, sys: 6.44 ms, total: 118 ms\n",
            "Wall time: 119 ms\n"
          ],
          "name": "stdout"
        }
      ]
    },
    {
      "cell_type": "code",
      "metadata": {
        "id": "bURenkpzQKTf",
        "colab_type": "code",
        "outputId": "a39a0e30-0c8f-43d6-81e3-6e157289368e",
        "colab": {
          "base_uri": "https://localhost:8080/",
          "height": 51
        }
      },
      "source": [
        "%%time\n",
        "# calculate the mean squared error of the testing dataset using the cuml linear regression model\n",
        "rapids_pred = rapids.predict(X_test).to_array()\n",
        "rapids_loss = mean_squared_error(y_test, rapids_pred)\n",
        "print(\"Linear Regression Mean Squared Error loss using RAPIDS:\", rapids_loss)"
      ],
      "execution_count": 0,
      "outputs": [
        {
          "output_type": "stream",
          "text": [
            "CPU times: user 3.46 ms, sys: 538 µs, total: 4 ms\n",
            "Wall time: 5.22 ms\n"
          ],
          "name": "stdout"
        }
      ]
    },
    {
      "cell_type": "markdown",
      "metadata": {
        "colab_type": "text",
        "id": "hUM8tqPcdTMm"
      },
      "source": [
        "### Sklearn"
      ]
    },
    {
      "cell_type": "code",
      "metadata": {
        "id": "EOZqzpN1Prsm",
        "colab_type": "code",
        "outputId": "ac9fafcf-7a3d-4c3c-81bc-fad93454f220",
        "colab": {
          "base_uri": "https://localhost:8080/",
          "height": 51
        }
      },
      "source": [
        "%%time\n",
        "# use the sklearn linear regression model to fit the training dataset \n",
        "sk = skLinearRegression(fit_intercept=True,\n",
        "                  normalize=True)\n",
        "sk.fit(X_train, y_train)"
      ],
      "execution_count": 0,
      "outputs": [
        {
          "output_type": "stream",
          "text": [
            "CPU times: user 3.68 ms, sys: 183 µs, total: 3.86 ms\n",
            "Wall time: 21.7 ms\n"
          ],
          "name": "stdout"
        }
      ]
    },
    {
      "cell_type": "code",
      "metadata": {
        "id": "--jqKMfTPyu2",
        "colab_type": "code",
        "outputId": "5317edf4-218a-4b4a-890d-5b78174c740e",
        "colab": {
          "base_uri": "https://localhost:8080/",
          "height": 51
        }
      },
      "source": [
        "%%time\n",
        "# calculate the mean squared error of the sklearn linear regression model on the testing dataset\n",
        "sk_pred = sk.predict(X_test)\n",
        "sk_loss = mean_squared_error(y_test, sk_pred)\n",
        "print(\"Linear Regression Mean Squared Error loss using Sklearn:\", sk_loss)"
      ],
      "execution_count": 0,
      "outputs": [
        {
          "output_type": "stream",
          "text": [
            "CPU times: user 671 µs, sys: 199 µs, total: 870 µs\n",
            "Wall time: 676 µs\n"
          ],
          "name": "stdout"
        }
      ]
    },
    {
      "cell_type": "markdown",
      "metadata": {
        "id": "vvrSWm-Df-sk",
        "colab_type": "text"
      },
      "source": [
        "## Example 5"
      ]
    },
    {
      "cell_type": "markdown",
      "metadata": {
        "id": "NsA9ZcLx7G30",
        "colab_type": "text"
      },
      "source": [
        "Rapids has additionally also support of another library called CuGraph which is used to create Graph Neural Network (GNN). GNNs have applications in: social network, knowledge graph, recommender system, and even life science. GNNs are used to model dependencies between nodes in a graph. If you are interested in finding out more, please refere to the documentation: https://github.com/rapidsai/notebooks/tree/branch-0.9/cugraph or to my RAPIDS: CuGraph tutorial on GitHub."
      ]
    },
    {
      "cell_type": "markdown",
      "metadata": {
        "colab_type": "text",
        "id": "Bx27G1SMIJR4"
      },
      "source": [
        "## Example 6"
      ]
    },
    {
      "cell_type": "markdown",
      "metadata": {
        "id": "sk89T-nB3QuI",
        "colab_type": "text"
      },
      "source": [
        "Another library supported by RAPIDS is Dask. Dask is a library the allows for parallelized computing. Written in Python, it allows one to compose complex workflows using large data structures like those found in NumPy, Pandas, and cuDF. Dask operates by creating a cluster composed of a \"client\" and multiple \"workers\". The client is responsible for scheduling work; the workers are responsible for actually executing that work. If you are interested in finding out more, please refere to the documentation: https://github.com/rapidsai/notebooks-extended/tree/master/getting_started_notebooks/intro_tutorials or to my RAPIDS: Dask tutorial on GitHub."
      ]
    }
  ]
}