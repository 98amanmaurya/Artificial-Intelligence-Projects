{
 "cells": [
  {
   "cell_type": "markdown",
   "metadata": {},
   "source": [
    "**Pima Indians Diabetes Database**"
   ]
  },
  {
   "cell_type": "markdown",
   "metadata": {},
   "source": [
    "**Preprocessing**"
   ]
  },
  {
   "cell_type": "code",
   "execution_count": 11,
   "metadata": {
    "_cell_guid": "b1076dfc-b9ad-4769-8c92-a6c4dae69d19",
    "_uuid": "8f2839f25d086af736a60e9eeb907d3b93b6e0e5"
   },
   "outputs": [],
   "source": [
    "import tensorflowjs as tfjs\n",
    "import tensorflow as tf\n",
    "import numpy as np # linear algebra\n",
    "import pandas as pd # data processing, CSV file I/O (e.g. pd.read_csv)\n",
    "from keras.utils import np_utils"
   ]
  },
  {
   "cell_type": "code",
   "execution_count": 2,
   "metadata": {},
   "outputs": [
    {
     "name": "stdout",
     "output_type": "stream",
     "text": [
      "1.14.0\n"
     ]
    }
   ],
   "source": [
    "print(tensorflow.__version__)"
   ]
  },
  {
   "cell_type": "code",
   "execution_count": 3,
   "metadata": {
    "_cell_guid": "79c7e3d0-c299-4dcb-8224-4455121ee9b0",
    "_uuid": "d629ff2d2480ee46fbb7e2d37f6b5fab8052498a"
   },
   "outputs": [
    {
     "data": {
      "text/html": [
       "<div>\n",
       "<style scoped>\n",
       "    .dataframe tbody tr th:only-of-type {\n",
       "        vertical-align: middle;\n",
       "    }\n",
       "\n",
       "    .dataframe tbody tr th {\n",
       "        vertical-align: top;\n",
       "    }\n",
       "\n",
       "    .dataframe thead th {\n",
       "        text-align: right;\n",
       "    }\n",
       "</style>\n",
       "<table border=\"1\" class=\"dataframe\">\n",
       "  <thead>\n",
       "    <tr style=\"text-align: right;\">\n",
       "      <th></th>\n",
       "      <th>Pregnancies</th>\n",
       "      <th>Glucose</th>\n",
       "      <th>BloodPressure</th>\n",
       "      <th>SkinThickness</th>\n",
       "      <th>Insulin</th>\n",
       "      <th>BMI</th>\n",
       "      <th>DiabetesPedigreeFunction</th>\n",
       "      <th>Age</th>\n",
       "      <th>Outcome</th>\n",
       "    </tr>\n",
       "  </thead>\n",
       "  <tbody>\n",
       "    <tr>\n",
       "      <th>0</th>\n",
       "      <td>6</td>\n",
       "      <td>148</td>\n",
       "      <td>72</td>\n",
       "      <td>35</td>\n",
       "      <td>0</td>\n",
       "      <td>33.6</td>\n",
       "      <td>0.627</td>\n",
       "      <td>50</td>\n",
       "      <td>1</td>\n",
       "    </tr>\n",
       "    <tr>\n",
       "      <th>1</th>\n",
       "      <td>1</td>\n",
       "      <td>85</td>\n",
       "      <td>66</td>\n",
       "      <td>29</td>\n",
       "      <td>0</td>\n",
       "      <td>26.6</td>\n",
       "      <td>0.351</td>\n",
       "      <td>31</td>\n",
       "      <td>0</td>\n",
       "    </tr>\n",
       "    <tr>\n",
       "      <th>2</th>\n",
       "      <td>8</td>\n",
       "      <td>183</td>\n",
       "      <td>64</td>\n",
       "      <td>0</td>\n",
       "      <td>0</td>\n",
       "      <td>23.3</td>\n",
       "      <td>0.672</td>\n",
       "      <td>32</td>\n",
       "      <td>1</td>\n",
       "    </tr>\n",
       "    <tr>\n",
       "      <th>3</th>\n",
       "      <td>1</td>\n",
       "      <td>89</td>\n",
       "      <td>66</td>\n",
       "      <td>23</td>\n",
       "      <td>94</td>\n",
       "      <td>28.1</td>\n",
       "      <td>0.167</td>\n",
       "      <td>21</td>\n",
       "      <td>0</td>\n",
       "    </tr>\n",
       "    <tr>\n",
       "      <th>4</th>\n",
       "      <td>0</td>\n",
       "      <td>137</td>\n",
       "      <td>40</td>\n",
       "      <td>35</td>\n",
       "      <td>168</td>\n",
       "      <td>43.1</td>\n",
       "      <td>2.288</td>\n",
       "      <td>33</td>\n",
       "      <td>1</td>\n",
       "    </tr>\n",
       "  </tbody>\n",
       "</table>\n",
       "</div>"
      ],
      "text/plain": [
       "   Pregnancies  Glucose  BloodPressure  SkinThickness  Insulin   BMI  \\\n",
       "0            6      148             72             35        0  33.6   \n",
       "1            1       85             66             29        0  26.6   \n",
       "2            8      183             64              0        0  23.3   \n",
       "3            1       89             66             23       94  28.1   \n",
       "4            0      137             40             35      168  43.1   \n",
       "\n",
       "   DiabetesPedigreeFunction  Age  Outcome  \n",
       "0                     0.627   50        1  \n",
       "1                     0.351   31        0  \n",
       "2                     0.672   32        1  \n",
       "3                     0.167   21        0  \n",
       "4                     2.288   33        1  "
      ]
     },
     "execution_count": 3,
     "metadata": {},
     "output_type": "execute_result"
    }
   ],
   "source": [
    "import warnings\n",
    "warnings.filterwarnings('ignore')\n",
    "\n",
    "df = pd.read_csv(\"pima_indian_data.csv\")\n",
    "#df = df.drop('Unnamed: 0', axis=1)\n",
    "df.head()\n",
    "# print(df.shape)\n",
    "# print(df.columns)"
   ]
  },
  {
   "cell_type": "code",
   "execution_count": 4,
   "metadata": {},
   "outputs": [],
   "source": [
    "#df.to_csv(\"pima.csv\", index=False)"
   ]
  },
  {
   "cell_type": "markdown",
   "metadata": {},
   "source": [
    "**Data Visualization**"
   ]
  },
  {
   "cell_type": "code",
   "execution_count": 5,
   "metadata": {},
   "outputs": [],
   "source": [
    "import seaborn as sns\n",
    "import matplotlib.pyplot as plt"
   ]
  },
  {
   "cell_type": "code",
   "execution_count": 6,
   "metadata": {},
   "outputs": [
    {
     "data": {
      "text/plain": [
       "<matplotlib.axes._subplots.AxesSubplot at 0x1ed0b847a58>"
      ]
     },
     "execution_count": 6,
     "metadata": {},
     "output_type": "execute_result"
    },
    {
     "data": {
      "image/png": "[encoded data removed]",
      "text/plain": [
       "<Figure size 432x288 with 2 Axes>"
      ]
     },
     "metadata": {
      "needs_background": "light"
     },
     "output_type": "display_data"
    }
   ],
   "source": [
    "import seaborn as sns\n",
    "\n",
    "corr=df.corr()\n",
    "sns.heatmap(corr, xticklabels=corr.columns.values, yticklabels=corr.columns.values)"
   ]
  },
  {
   "cell_type": "markdown",
   "metadata": {},
   "source": [
    "**Deep Learning**"
   ]
  },
  {
   "cell_type": "code",
   "execution_count": 7,
   "metadata": {},
   "outputs": [],
   "source": [
    "from sklearn.preprocessing import StandardScaler\n",
    "from sklearn.model_selection import train_test_split\n",
    "\n",
    "X = df.drop(['Outcome'], axis = 1).values\n",
    "Y = df['Outcome']\n",
    "\n",
    "X = StandardScaler().fit_transform(X)\n",
    "\n",
    "X_Train, X_Test, Y_Train, Y_Test = train_test_split(X, Y, test_size = 0.30, random_state = 101)"
   ]
  },
  {
   "cell_type": "code",
   "execution_count": 8,
   "metadata": {},
   "outputs": [],
   "source": [
    "from keras.models import Sequential\n",
    "from keras.layers import Dense\n",
    "from keras.callbacks import EarlyStopping\n",
    "from sklearn import preprocessing\n",
    "from sklearn.model_selection import train_test_split\n",
    "from sklearn.metrics import confusion_matrix, classification_report"
   ]
  },
  {
   "cell_type": "code",
   "execution_count": 23,
   "metadata": {},
   "outputs": [
    {
     "name": "stdout",
     "output_type": "stream",
     "text": [
      "Model: \"sequential_3\"\n",
      "_________________________________________________________________\n",
      "Layer (type)                 Output Shape              Param #   \n",
      "=================================================================\n",
      "dense_10 (Dense)             (None, 13)                117       \n",
      "_________________________________________________________________\n",
      "dense_11 (Dense)             (None, 60)                840       \n",
      "_________________________________________________________________\n",
      "dense_12 (Dense)             (None, 30)                1830      \n",
      "_________________________________________________________________\n",
      "dense_13 (Dense)             (None, 10)                310       \n",
      "_________________________________________________________________\n",
      "dense_14 (Dense)             (None, 1)                 11        \n",
      "=================================================================\n",
      "Total params: 3,108\n",
      "Trainable params: 3,108\n",
      "Non-trainable params: 0\n",
      "_________________________________________________________________\n"
     ]
    }
   ],
   "source": [
    "# Initialize the constructor\n",
    "model = tf.keras.Sequential([\n",
    "  tf.keras.layers.Dense(13, activation='relu', input_shape=(8,)),  # must declare input shape\n",
    "  tf.keras.layers.Dense(60, activation='relu'),\n",
    "  tf.keras.layers.Dense(30, activation='relu'),\n",
    "    tf.keras.layers.Dense(10, activation='relu'),\n",
    "  tf.keras.layers.Dense(1, activation='relu')\n",
    "])\n",
    "# Model summary\n",
    "model.summary()"
   ]
  },
  {
   "cell_type": "code",
   "execution_count": 24,
   "metadata": {},
   "outputs": [
    {
     "name": "stdout",
     "output_type": "stream",
     "text": [
      "Epoch 1/100\n",
      "537/537 [==============================] - 0s 221us/sample - loss: 1.7429 - acc: 0.5475\n",
      "Epoch 2/100\n",
      "537/537 [==============================] - 0s 11us/sample - loss: 0.8549 - acc: 0.5251\n",
      "Epoch 3/100\n",
      "537/537 [==============================] - 0s 11us/sample - loss: 0.7022 - acc: 0.6220\n",
      "Epoch 4/100\n",
      "537/537 [==============================] - 0s 13us/sample - loss: 0.7793 - acc: 0.6872\n",
      "Epoch 5/100\n",
      "537/537 [==============================] - 0s 17us/sample - loss: 0.7641 - acc: 0.6927\n",
      "Epoch 6/100\n",
      "537/537 [==============================] - 0s 11us/sample - loss: 0.7531 - acc: 0.6927\n",
      "Epoch 7/100\n",
      "537/537 [==============================] - 0s 15us/sample - loss: 0.5988 - acc: 0.7039\n",
      "Epoch 8/100\n",
      "537/537 [==============================] - 0s 13us/sample - loss: 0.5880 - acc: 0.6946\n",
      "Epoch 9/100\n",
      "537/537 [==============================] - 0s 17us/sample - loss: 0.5763 - acc: 0.7076\n",
      "Epoch 10/100\n",
      "537/537 [==============================] - 0s 15us/sample - loss: 0.5647 - acc: 0.7095\n",
      "Epoch 11/100\n",
      "537/537 [==============================] - 0s 13us/sample - loss: 0.5625 - acc: 0.6965\n",
      "Epoch 12/100\n",
      "537/537 [==============================] - 0s 19us/sample - loss: 0.5543 - acc: 0.7058\n",
      "Epoch 13/100\n",
      "537/537 [==============================] - 0s 11us/sample - loss: 0.5505 - acc: 0.7039\n",
      "Epoch 14/100\n",
      "537/537 [==============================] - 0s 17us/sample - loss: 0.5416 - acc: 0.7169\n",
      "Epoch 15/100\n",
      "537/537 [==============================] - 0s 11us/sample - loss: 0.5429 - acc: 0.7300\n",
      "Epoch 16/100\n",
      "537/537 [==============================] - 0s 15us/sample - loss: 0.5328 - acc: 0.7263\n",
      "Epoch 17/100\n",
      "537/537 [==============================] - 0s 15us/sample - loss: 0.5289 - acc: 0.7337\n",
      "Epoch 18/100\n",
      "537/537 [==============================] - 0s 11us/sample - loss: 0.5540 - acc: 0.7374\n",
      "Epoch 19/100\n",
      "537/537 [==============================] - 0s 11us/sample - loss: 0.5217 - acc: 0.7486\n",
      "Epoch 20/100\n",
      "537/537 [==============================] - 0s 13us/sample - loss: 0.6027 - acc: 0.7076\n",
      "Epoch 21/100\n",
      "537/537 [==============================] - 0s 13us/sample - loss: 0.5261 - acc: 0.7449\n",
      "Epoch 22/100\n",
      "537/537 [==============================] - 0s 9us/sample - loss: 0.5192 - acc: 0.7412\n",
      "Epoch 23/100\n",
      "537/537 [==============================] - 0s 13us/sample - loss: 0.5145 - acc: 0.7430\n",
      "Epoch 24/100\n",
      "537/537 [==============================] - 0s 22us/sample - loss: 0.5183 - acc: 0.7449\n",
      "Epoch 25/100\n",
      "537/537 [==============================] - 0s 11us/sample - loss: 0.5142 - acc: 0.7449\n",
      "Epoch 26/100\n",
      "537/537 [==============================] - 0s 15us/sample - loss: 0.5082 - acc: 0.7430\n",
      "Epoch 27/100\n",
      "537/537 [==============================] - 0s 13us/sample - loss: 0.5064 - acc: 0.7467\n",
      "Epoch 28/100\n",
      "537/537 [==============================] - 0s 9us/sample - loss: 0.5049 - acc: 0.7430\n",
      "Epoch 29/100\n",
      "537/537 [==============================] - 0s 17us/sample - loss: 0.5102 - acc: 0.7374\n",
      "Epoch 30/100\n",
      "537/537 [==============================] - 0s 11us/sample - loss: 0.5002 - acc: 0.7542\n",
      "Epoch 31/100\n",
      "537/537 [==============================] - 0s 13us/sample - loss: 0.4974 - acc: 0.7598\n",
      "Epoch 32/100\n",
      "537/537 [==============================] - 0s 15us/sample - loss: 0.4948 - acc: 0.7561\n",
      "Epoch 33/100\n",
      "537/537 [==============================] - 0s 9us/sample - loss: 0.4970 - acc: 0.7523\n",
      "Epoch 34/100\n",
      "537/537 [==============================] - 0s 15us/sample - loss: 0.4933 - acc: 0.7523\n",
      "Epoch 35/100\n",
      "537/537 [==============================] - 0s 15us/sample - loss: 0.4892 - acc: 0.7523\n",
      "Epoch 36/100\n",
      "537/537 [==============================] - 0s 11us/sample - loss: 0.4982 - acc: 0.7542\n",
      "Epoch 37/100\n",
      "537/537 [==============================] - 0s 9us/sample - loss: 0.4884 - acc: 0.7542\n",
      "Epoch 38/100\n",
      "537/537 [==============================] - 0s 19us/sample - loss: 0.4883 - acc: 0.7616\n",
      "Epoch 39/100\n",
      "537/537 [==============================] - 0s 13us/sample - loss: 0.4849 - acc: 0.7598\n",
      "Epoch 40/100\n",
      "537/537 [==============================] - 0s 11us/sample - loss: 0.4821 - acc: 0.7542\n",
      "Epoch 41/100\n",
      "537/537 [==============================] - 0s 17us/sample - loss: 0.4837 - acc: 0.7467\n",
      "Epoch 42/100\n",
      "537/537 [==============================] - 0s 11us/sample - loss: 0.4777 - acc: 0.7598\n",
      "Epoch 43/100\n",
      "537/537 [==============================] - 0s 13us/sample - loss: 0.4786 - acc: 0.7561\n",
      "Epoch 44/100\n",
      "537/537 [==============================] - 0s 15us/sample - loss: 0.4750 - acc: 0.7616\n",
      "Epoch 45/100\n",
      "537/537 [==============================] - 0s 11us/sample - loss: 0.4762 - acc: 0.7561\n",
      "Epoch 46/100\n",
      "537/537 [==============================] - 0s 11us/sample - loss: 0.4736 - acc: 0.7635\n",
      "Epoch 47/100\n",
      "537/537 [==============================] - 0s 17us/sample - loss: 0.4802 - acc: 0.7616\n",
      "Epoch 48/100\n",
      "537/537 [==============================] - 0s 15us/sample - loss: 0.4792 - acc: 0.7561\n",
      "Epoch 49/100\n",
      "537/537 [==============================] - 0s 11us/sample - loss: 0.4699 - acc: 0.7672\n",
      "Epoch 50/100\n",
      "537/537 [==============================] - 0s 13us/sample - loss: 0.4695 - acc: 0.7598\n",
      "Epoch 51/100\n",
      "537/537 [==============================] - 0s 13us/sample - loss: 0.4673 - acc: 0.7672\n",
      "Epoch 52/100\n",
      "537/537 [==============================] - 0s 13us/sample - loss: 0.4679 - acc: 0.7561\n",
      "Epoch 53/100\n",
      "537/537 [==============================] - 0s 13us/sample - loss: 0.4784 - acc: 0.7542\n",
      "Epoch 54/100\n",
      "537/537 [==============================] - 0s 15us/sample - loss: 0.4627 - acc: 0.7616\n",
      "Epoch 55/100\n",
      "537/537 [==============================] - 0s 13us/sample - loss: 0.4658 - acc: 0.7728\n",
      "Epoch 56/100\n",
      "537/537 [==============================] - 0s 19us/sample - loss: 0.4609 - acc: 0.7709\n",
      "Epoch 57/100\n",
      "537/537 [==============================] - 0s 13us/sample - loss: 0.4596 - acc: 0.7709\n",
      "Epoch 58/100\n",
      "537/537 [==============================] - 0s 11us/sample - loss: 0.4641 - acc: 0.7635\n",
      "Epoch 59/100\n",
      "537/537 [==============================] - 0s 15us/sample - loss: 0.4574 - acc: 0.7654\n",
      "Epoch 60/100\n",
      "537/537 [==============================] - 0s 11us/sample - loss: 0.4569 - acc: 0.7672\n",
      "Epoch 61/100\n",
      "537/537 [==============================] - 0s 17us/sample - loss: 0.4560 - acc: 0.7654\n",
      "Epoch 62/100\n",
      "537/537 [==============================] - 0s 13us/sample - loss: 0.4570 - acc: 0.7672\n",
      "Epoch 63/100\n",
      "537/537 [==============================] - 0s 15us/sample - loss: 0.4555 - acc: 0.7635\n",
      "Epoch 64/100\n",
      "537/537 [==============================] - 0s 13us/sample - loss: 0.4518 - acc: 0.7635\n",
      "Epoch 65/100\n",
      "537/537 [==============================] - 0s 11us/sample - loss: 0.4572 - acc: 0.7635\n",
      "Epoch 66/100\n",
      "537/537 [==============================] - 0s 11us/sample - loss: 0.4503 - acc: 0.7672\n",
      "Epoch 67/100\n",
      "537/537 [==============================] - 0s 11us/sample - loss: 0.4782 - acc: 0.7616\n",
      "Epoch 68/100\n",
      "537/537 [==============================] - 0s 15us/sample - loss: 0.4487 - acc: 0.7728\n",
      "Epoch 69/100\n",
      "537/537 [==============================] - 0s 13us/sample - loss: 0.4487 - acc: 0.7728\n",
      "Epoch 70/100\n",
      "537/537 [==============================] - 0s 15us/sample - loss: 0.4489 - acc: 0.7709\n",
      "Epoch 71/100\n",
      "537/537 [==============================] - 0s 19us/sample - loss: 0.4475 - acc: 0.7672\n",
      "Epoch 72/100\n",
      "537/537 [==============================] - 0s 13us/sample - loss: 0.4463 - acc: 0.7765\n",
      "Epoch 73/100\n",
      "537/537 [==============================] - 0s 13us/sample - loss: 0.4425 - acc: 0.7654\n",
      "Epoch 74/100\n",
      "537/537 [==============================] - 0s 19us/sample - loss: 0.4445 - acc: 0.7672\n",
      "Epoch 75/100\n",
      "537/537 [==============================] - 0s 13us/sample - loss: 0.4436 - acc: 0.7765\n",
      "Epoch 76/100\n",
      "537/537 [==============================] - 0s 20us/sample - loss: 0.4539 - acc: 0.7728\n",
      "Epoch 77/100\n",
      "537/537 [==============================] - 0s 13us/sample - loss: 0.4407 - acc: 0.7709\n",
      "Epoch 78/100\n",
      "537/537 [==============================] - 0s 15us/sample - loss: 0.4462 - acc: 0.7784\n",
      "Epoch 79/100\n",
      "537/537 [==============================] - 0s 13us/sample - loss: 0.4459 - acc: 0.7709\n",
      "Epoch 80/100\n",
      "537/537 [==============================] - 0s 17us/sample - loss: 0.4394 - acc: 0.7765\n",
      "Epoch 81/100\n",
      "537/537 [==============================] - 0s 15us/sample - loss: 0.4384 - acc: 0.7747\n",
      "Epoch 82/100\n",
      "537/537 [==============================] - 0s 15us/sample - loss: 0.4343 - acc: 0.7784\n",
      "Epoch 83/100\n"
     ]
    },
    {
     "name": "stdout",
     "output_type": "stream",
     "text": [
      "537/537 [==============================] - 0s 15us/sample - loss: 0.4383 - acc: 0.7821\n",
      "Epoch 84/100\n",
      "537/537 [==============================] - 0s 17us/sample - loss: 0.4344 - acc: 0.7821\n",
      "Epoch 85/100\n",
      "537/537 [==============================] - 0s 19us/sample - loss: 0.4312 - acc: 0.7784\n",
      "Epoch 86/100\n",
      "537/537 [==============================] - 0s 13us/sample - loss: 0.4306 - acc: 0.7821\n",
      "Epoch 87/100\n",
      "537/537 [==============================] - 0s 13us/sample - loss: 0.4314 - acc: 0.7747\n",
      "Epoch 88/100\n",
      "537/537 [==============================] - 0s 13us/sample - loss: 0.4343 - acc: 0.7840\n",
      "Epoch 89/100\n",
      "537/537 [==============================] - 0s 11us/sample - loss: 0.4552 - acc: 0.7784\n",
      "Epoch 90/100\n",
      "537/537 [==============================] - 0s 19us/sample - loss: 0.4317 - acc: 0.7821\n",
      "Epoch 91/100\n",
      "537/537 [==============================] - 0s 9us/sample - loss: 0.4290 - acc: 0.7840\n",
      "Epoch 92/100\n",
      "537/537 [==============================] - 0s 11us/sample - loss: 0.4346 - acc: 0.7840\n",
      "Epoch 93/100\n",
      "537/537 [==============================] - 0s 17us/sample - loss: 0.4264 - acc: 0.7858\n",
      "Epoch 94/100\n",
      "537/537 [==============================] - 0s 15us/sample - loss: 0.4265 - acc: 0.7858\n",
      "Epoch 95/100\n",
      "537/537 [==============================] - 0s 13us/sample - loss: 0.4291 - acc: 0.7821\n",
      "Epoch 96/100\n",
      "537/537 [==============================] - 0s 15us/sample - loss: 0.4396 - acc: 0.7840\n",
      "Epoch 97/100\n",
      "537/537 [==============================] - 0s 13us/sample - loss: 0.4249 - acc: 0.7784\n",
      "Epoch 98/100\n",
      "537/537 [==============================] - 0s 17us/sample - loss: 0.4234 - acc: 0.7840\n",
      "Epoch 99/100\n",
      "537/537 [==============================] - 0s 11us/sample - loss: 0.4219 - acc: 0.7877\n",
      "Epoch 100/100\n",
      "537/537 [==============================] - 0s 13us/sample - loss: 0.4277 - acc: 0.7803\n"
     ]
    },
    {
     "data": {
      "text/plain": [
       "<tensorflow.python.keras.callbacks.History at 0x1ed0eb438d0>"
      ]
     },
     "execution_count": 24,
     "metadata": {},
     "output_type": "execute_result"
    }
   ],
   "source": [
    "model.compile(loss='binary_crossentropy',optimizer='sgd',metrics=['accuracy'])\n",
    "model.fit(X_Train, Y_Train,epochs=100, batch_size=256)"
   ]
  },
  {
   "cell_type": "code",
   "execution_count": 25,
   "metadata": {},
   "outputs": [
    {
     "name": "stdout",
     "output_type": "stream",
     "text": [
      "[[328  22]\n",
      " [ 99  88]]\n",
      "              precision    recall  f1-score   support\n",
      "\n",
      "           0       0.77      0.94      0.84       350\n",
      "           1       0.80      0.47      0.59       187\n",
      "\n",
      "   micro avg       0.77      0.77      0.77       537\n",
      "   macro avg       0.78      0.70      0.72       537\n",
      "weighted avg       0.78      0.77      0.76       537\n",
      "\n"
     ]
    }
   ],
   "source": [
    "# over the training set\n",
    "y_pred=model.predict_classes(X_Train)\n",
    "print(confusion_matrix(Y_Train, y_pred))\n",
    "print(classification_report(Y_Train, y_pred))"
   ]
  },
  {
   "cell_type": "code",
   "execution_count": 26,
   "metadata": {},
   "outputs": [
    {
     "name": "stdout",
     "output_type": "stream",
     "text": [
      "[[138  12]\n",
      " [ 40  41]]\n",
      "              precision    recall  f1-score   support\n",
      "\n",
      "           0       0.78      0.92      0.84       150\n",
      "           1       0.77      0.51      0.61        81\n",
      "\n",
      "   micro avg       0.77      0.77      0.77       231\n",
      "   macro avg       0.77      0.71      0.73       231\n",
      "weighted avg       0.77      0.77      0.76       231\n",
      "\n"
     ]
    }
   ],
   "source": [
    "# over the test set\n",
    "y_pred=model.predict_classes(X_Test)\n",
    "print(confusion_matrix(Y_Test, y_pred))\n",
    "print(classification_report(Y_Test, y_pred))"
   ]
  },
  {
   "cell_type": "code",
   "execution_count": 27,
   "metadata": {},
   "outputs": [],
   "source": [
    "tfjs.converters.save_keras_model(model, 'modelready')"
   ]
  }
 ],
 "metadata": {
  "kernelspec": {
   "display_name": "Python 3",
   "language": "python",
   "name": "python3"
  },
  "language_info": {
   "codemirror_mode": {
    "name": "ipython",
    "version": 3
   },
   "file_extension": ".py",
   "mimetype": "text/x-python",
   "name": "python",
   "nbconvert_exporter": "python",
   "pygments_lexer": "ipython3",
   "version": "3.7.3"
  }
 },
 "nbformat": 4,
 "nbformat_minor": 1
}
